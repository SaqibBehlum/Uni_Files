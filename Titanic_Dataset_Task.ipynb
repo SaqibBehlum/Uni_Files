{
 "cells": [
  {
   "cell_type": "code",
   "execution_count": 58,
   "id": "475d4f73-1eed-4c96-8a88-c9ad26e6ea22",
   "metadata": {},
   "outputs": [],
   "source": [
    "import numpy as np\n",
    "import matplotlib.pyplot as plt\n",
    "import pandas as pd\n",
    "import seaborn as sns "
   ]
  },
  {
   "cell_type": "code",
   "execution_count": 59,
   "id": "a1fcae12-2c68-48de-9183-8b2e80fa82f6",
   "metadata": {},
   "outputs": [],
   "source": [
    "df = pd.read_csv('titanic.csv')"
   ]
  },
  {
   "cell_type": "code",
   "execution_count": 60,
   "id": "c7686276-a745-4c6c-b4b9-356e6ca10c29",
   "metadata": {},
   "outputs": [
    {
     "data": {
      "text/html": [
       "<div>\n",
       "<style scoped>\n",
       "    .dataframe tbody tr th:only-of-type {\n",
       "        vertical-align: middle;\n",
       "    }\n",
       "\n",
       "    .dataframe tbody tr th {\n",
       "        vertical-align: top;\n",
       "    }\n",
       "\n",
       "    .dataframe thead th {\n",
       "        text-align: right;\n",
       "    }\n",
       "</style>\n",
       "<table border=\"1\" class=\"dataframe\">\n",
       "  <thead>\n",
       "    <tr style=\"text-align: right;\">\n",
       "      <th></th>\n",
       "      <th>PassengerId</th>\n",
       "      <th>Survived</th>\n",
       "      <th>Pclass</th>\n",
       "      <th>Name</th>\n",
       "      <th>Sex</th>\n",
       "      <th>Age</th>\n",
       "      <th>SibSp</th>\n",
       "      <th>Parch</th>\n",
       "      <th>Ticket</th>\n",
       "      <th>Fare</th>\n",
       "      <th>Cabin</th>\n",
       "      <th>Embarked</th>\n",
       "    </tr>\n",
       "  </thead>\n",
       "  <tbody>\n",
       "    <tr>\n",
       "      <th>0</th>\n",
       "      <td>1</td>\n",
       "      <td>0</td>\n",
       "      <td>3</td>\n",
       "      <td>Braund, Mr. Owen Harris</td>\n",
       "      <td>male</td>\n",
       "      <td>22.0</td>\n",
       "      <td>1</td>\n",
       "      <td>0</td>\n",
       "      <td>A/5 21171</td>\n",
       "      <td>7.2500</td>\n",
       "      <td>NaN</td>\n",
       "      <td>S</td>\n",
       "    </tr>\n",
       "    <tr>\n",
       "      <th>1</th>\n",
       "      <td>2</td>\n",
       "      <td>1</td>\n",
       "      <td>1</td>\n",
       "      <td>Cumings, Mrs. John Bradley (Florence Briggs Th...</td>\n",
       "      <td>female</td>\n",
       "      <td>38.0</td>\n",
       "      <td>1</td>\n",
       "      <td>0</td>\n",
       "      <td>PC 17599</td>\n",
       "      <td>71.2833</td>\n",
       "      <td>C85</td>\n",
       "      <td>C</td>\n",
       "    </tr>\n",
       "    <tr>\n",
       "      <th>2</th>\n",
       "      <td>3</td>\n",
       "      <td>1</td>\n",
       "      <td>3</td>\n",
       "      <td>Heikkinen, Miss. Laina</td>\n",
       "      <td>female</td>\n",
       "      <td>26.0</td>\n",
       "      <td>0</td>\n",
       "      <td>0</td>\n",
       "      <td>STON/O2. 3101282</td>\n",
       "      <td>7.9250</td>\n",
       "      <td>NaN</td>\n",
       "      <td>S</td>\n",
       "    </tr>\n",
       "    <tr>\n",
       "      <th>3</th>\n",
       "      <td>4</td>\n",
       "      <td>1</td>\n",
       "      <td>1</td>\n",
       "      <td>Futrelle, Mrs. Jacques Heath (Lily May Peel)</td>\n",
       "      <td>female</td>\n",
       "      <td>35.0</td>\n",
       "      <td>1</td>\n",
       "      <td>0</td>\n",
       "      <td>113803</td>\n",
       "      <td>53.1000</td>\n",
       "      <td>C123</td>\n",
       "      <td>S</td>\n",
       "    </tr>\n",
       "    <tr>\n",
       "      <th>4</th>\n",
       "      <td>5</td>\n",
       "      <td>0</td>\n",
       "      <td>3</td>\n",
       "      <td>Allen, Mr. William Henry</td>\n",
       "      <td>male</td>\n",
       "      <td>35.0</td>\n",
       "      <td>0</td>\n",
       "      <td>0</td>\n",
       "      <td>373450</td>\n",
       "      <td>8.0500</td>\n",
       "      <td>NaN</td>\n",
       "      <td>S</td>\n",
       "    </tr>\n",
       "  </tbody>\n",
       "</table>\n",
       "</div>"
      ],
      "text/plain": [
       "   PassengerId  Survived  Pclass  \\\n",
       "0            1         0       3   \n",
       "1            2         1       1   \n",
       "2            3         1       3   \n",
       "3            4         1       1   \n",
       "4            5         0       3   \n",
       "\n",
       "                                                Name     Sex   Age  SibSp  \\\n",
       "0                            Braund, Mr. Owen Harris    male  22.0      1   \n",
       "1  Cumings, Mrs. John Bradley (Florence Briggs Th...  female  38.0      1   \n",
       "2                             Heikkinen, Miss. Laina  female  26.0      0   \n",
       "3       Futrelle, Mrs. Jacques Heath (Lily May Peel)  female  35.0      1   \n",
       "4                           Allen, Mr. William Henry    male  35.0      0   \n",
       "\n",
       "   Parch            Ticket     Fare Cabin Embarked  \n",
       "0      0         A/5 21171   7.2500   NaN        S  \n",
       "1      0          PC 17599  71.2833   C85        C  \n",
       "2      0  STON/O2. 3101282   7.9250   NaN        S  \n",
       "3      0            113803  53.1000  C123        S  \n",
       "4      0            373450   8.0500   NaN        S  "
      ]
     },
     "execution_count": 60,
     "metadata": {},
     "output_type": "execute_result"
    }
   ],
   "source": [
    "df.head()"
   ]
  },
  {
   "cell_type": "markdown",
   "id": "7f427b1d-78b4-4aca-a822-41b25cbd4977",
   "metadata": {},
   "source": [
    "# Part A – Data Exploration (Pandas & Numpy)\n",
    "## 1 - Load the dataset\n",
    "    - Use Pandas to load the CSV.\n",
    "    - Display the first 10 rows to get a quick look.\n",
    "    - Print the column names and their data types.\n",
    "    - Use .describe() to view basic statistics (mean, min, max, etc.).\n"
   ]
  },
  {
   "cell_type": "code",
   "execution_count": 61,
   "id": "c53f6a6e-8be9-4c28-bf43-be62bbabb48f",
   "metadata": {},
   "outputs": [
    {
     "data": {
      "text/html": [
       "<div>\n",
       "<style scoped>\n",
       "    .dataframe tbody tr th:only-of-type {\n",
       "        vertical-align: middle;\n",
       "    }\n",
       "\n",
       "    .dataframe tbody tr th {\n",
       "        vertical-align: top;\n",
       "    }\n",
       "\n",
       "    .dataframe thead th {\n",
       "        text-align: right;\n",
       "    }\n",
       "</style>\n",
       "<table border=\"1\" class=\"dataframe\">\n",
       "  <thead>\n",
       "    <tr style=\"text-align: right;\">\n",
       "      <th></th>\n",
       "      <th>PassengerId</th>\n",
       "      <th>Survived</th>\n",
       "      <th>Pclass</th>\n",
       "      <th>Name</th>\n",
       "      <th>Sex</th>\n",
       "      <th>Age</th>\n",
       "      <th>SibSp</th>\n",
       "      <th>Parch</th>\n",
       "      <th>Ticket</th>\n",
       "      <th>Fare</th>\n",
       "      <th>Cabin</th>\n",
       "      <th>Embarked</th>\n",
       "    </tr>\n",
       "  </thead>\n",
       "  <tbody>\n",
       "    <tr>\n",
       "      <th>0</th>\n",
       "      <td>1</td>\n",
       "      <td>0</td>\n",
       "      <td>3</td>\n",
       "      <td>Braund, Mr. Owen Harris</td>\n",
       "      <td>male</td>\n",
       "      <td>22.0</td>\n",
       "      <td>1</td>\n",
       "      <td>0</td>\n",
       "      <td>A/5 21171</td>\n",
       "      <td>7.2500</td>\n",
       "      <td>NaN</td>\n",
       "      <td>S</td>\n",
       "    </tr>\n",
       "    <tr>\n",
       "      <th>1</th>\n",
       "      <td>2</td>\n",
       "      <td>1</td>\n",
       "      <td>1</td>\n",
       "      <td>Cumings, Mrs. John Bradley (Florence Briggs Th...</td>\n",
       "      <td>female</td>\n",
       "      <td>38.0</td>\n",
       "      <td>1</td>\n",
       "      <td>0</td>\n",
       "      <td>PC 17599</td>\n",
       "      <td>71.2833</td>\n",
       "      <td>C85</td>\n",
       "      <td>C</td>\n",
       "    </tr>\n",
       "    <tr>\n",
       "      <th>2</th>\n",
       "      <td>3</td>\n",
       "      <td>1</td>\n",
       "      <td>3</td>\n",
       "      <td>Heikkinen, Miss. Laina</td>\n",
       "      <td>female</td>\n",
       "      <td>26.0</td>\n",
       "      <td>0</td>\n",
       "      <td>0</td>\n",
       "      <td>STON/O2. 3101282</td>\n",
       "      <td>7.9250</td>\n",
       "      <td>NaN</td>\n",
       "      <td>S</td>\n",
       "    </tr>\n",
       "    <tr>\n",
       "      <th>3</th>\n",
       "      <td>4</td>\n",
       "      <td>1</td>\n",
       "      <td>1</td>\n",
       "      <td>Futrelle, Mrs. Jacques Heath (Lily May Peel)</td>\n",
       "      <td>female</td>\n",
       "      <td>35.0</td>\n",
       "      <td>1</td>\n",
       "      <td>0</td>\n",
       "      <td>113803</td>\n",
       "      <td>53.1000</td>\n",
       "      <td>C123</td>\n",
       "      <td>S</td>\n",
       "    </tr>\n",
       "    <tr>\n",
       "      <th>4</th>\n",
       "      <td>5</td>\n",
       "      <td>0</td>\n",
       "      <td>3</td>\n",
       "      <td>Allen, Mr. William Henry</td>\n",
       "      <td>male</td>\n",
       "      <td>35.0</td>\n",
       "      <td>0</td>\n",
       "      <td>0</td>\n",
       "      <td>373450</td>\n",
       "      <td>8.0500</td>\n",
       "      <td>NaN</td>\n",
       "      <td>S</td>\n",
       "    </tr>\n",
       "    <tr>\n",
       "      <th>5</th>\n",
       "      <td>6</td>\n",
       "      <td>0</td>\n",
       "      <td>3</td>\n",
       "      <td>Moran, Mr. James</td>\n",
       "      <td>male</td>\n",
       "      <td>NaN</td>\n",
       "      <td>0</td>\n",
       "      <td>0</td>\n",
       "      <td>330877</td>\n",
       "      <td>8.4583</td>\n",
       "      <td>NaN</td>\n",
       "      <td>Q</td>\n",
       "    </tr>\n",
       "    <tr>\n",
       "      <th>6</th>\n",
       "      <td>7</td>\n",
       "      <td>0</td>\n",
       "      <td>1</td>\n",
       "      <td>McCarthy, Mr. Timothy J</td>\n",
       "      <td>male</td>\n",
       "      <td>54.0</td>\n",
       "      <td>0</td>\n",
       "      <td>0</td>\n",
       "      <td>17463</td>\n",
       "      <td>51.8625</td>\n",
       "      <td>E46</td>\n",
       "      <td>S</td>\n",
       "    </tr>\n",
       "    <tr>\n",
       "      <th>7</th>\n",
       "      <td>8</td>\n",
       "      <td>0</td>\n",
       "      <td>3</td>\n",
       "      <td>Palsson, Master. Gosta Leonard</td>\n",
       "      <td>male</td>\n",
       "      <td>2.0</td>\n",
       "      <td>3</td>\n",
       "      <td>1</td>\n",
       "      <td>349909</td>\n",
       "      <td>21.0750</td>\n",
       "      <td>NaN</td>\n",
       "      <td>S</td>\n",
       "    </tr>\n",
       "    <tr>\n",
       "      <th>8</th>\n",
       "      <td>9</td>\n",
       "      <td>1</td>\n",
       "      <td>3</td>\n",
       "      <td>Johnson, Mrs. Oscar W (Elisabeth Vilhelmina Berg)</td>\n",
       "      <td>female</td>\n",
       "      <td>27.0</td>\n",
       "      <td>0</td>\n",
       "      <td>2</td>\n",
       "      <td>347742</td>\n",
       "      <td>11.1333</td>\n",
       "      <td>NaN</td>\n",
       "      <td>S</td>\n",
       "    </tr>\n",
       "    <tr>\n",
       "      <th>9</th>\n",
       "      <td>10</td>\n",
       "      <td>1</td>\n",
       "      <td>2</td>\n",
       "      <td>Nasser, Mrs. Nicholas (Adele Achem)</td>\n",
       "      <td>female</td>\n",
       "      <td>14.0</td>\n",
       "      <td>1</td>\n",
       "      <td>0</td>\n",
       "      <td>237736</td>\n",
       "      <td>30.0708</td>\n",
       "      <td>NaN</td>\n",
       "      <td>C</td>\n",
       "    </tr>\n",
       "  </tbody>\n",
       "</table>\n",
       "</div>"
      ],
      "text/plain": [
       "   PassengerId  Survived  Pclass  \\\n",
       "0            1         0       3   \n",
       "1            2         1       1   \n",
       "2            3         1       3   \n",
       "3            4         1       1   \n",
       "4            5         0       3   \n",
       "5            6         0       3   \n",
       "6            7         0       1   \n",
       "7            8         0       3   \n",
       "8            9         1       3   \n",
       "9           10         1       2   \n",
       "\n",
       "                                                Name     Sex   Age  SibSp  \\\n",
       "0                            Braund, Mr. Owen Harris    male  22.0      1   \n",
       "1  Cumings, Mrs. John Bradley (Florence Briggs Th...  female  38.0      1   \n",
       "2                             Heikkinen, Miss. Laina  female  26.0      0   \n",
       "3       Futrelle, Mrs. Jacques Heath (Lily May Peel)  female  35.0      1   \n",
       "4                           Allen, Mr. William Henry    male  35.0      0   \n",
       "5                                   Moran, Mr. James    male   NaN      0   \n",
       "6                            McCarthy, Mr. Timothy J    male  54.0      0   \n",
       "7                     Palsson, Master. Gosta Leonard    male   2.0      3   \n",
       "8  Johnson, Mrs. Oscar W (Elisabeth Vilhelmina Berg)  female  27.0      0   \n",
       "9                Nasser, Mrs. Nicholas (Adele Achem)  female  14.0      1   \n",
       "\n",
       "   Parch            Ticket     Fare Cabin Embarked  \n",
       "0      0         A/5 21171   7.2500   NaN        S  \n",
       "1      0          PC 17599  71.2833   C85        C  \n",
       "2      0  STON/O2. 3101282   7.9250   NaN        S  \n",
       "3      0            113803  53.1000  C123        S  \n",
       "4      0            373450   8.0500   NaN        S  \n",
       "5      0            330877   8.4583   NaN        Q  \n",
       "6      0             17463  51.8625   E46        S  \n",
       "7      1            349909  21.0750   NaN        S  \n",
       "8      2            347742  11.1333   NaN        S  \n",
       "9      0            237736  30.0708   NaN        C  "
      ]
     },
     "execution_count": 61,
     "metadata": {},
     "output_type": "execute_result"
    }
   ],
   "source": [
    "# Display the first 10 rows to get a quick look.\n",
    "df.head(10)"
   ]
  },
  {
   "cell_type": "code",
   "execution_count": 62,
   "id": "fd42973a-77f5-4c95-9efd-9b238419f645",
   "metadata": {},
   "outputs": [
    {
     "name": "stdout",
     "output_type": "stream",
     "text": [
      "<class 'pandas.core.frame.DataFrame'>\n",
      "RangeIndex: 891 entries, 0 to 890\n",
      "Data columns (total 12 columns):\n",
      " #   Column       Non-Null Count  Dtype  \n",
      "---  ------       --------------  -----  \n",
      " 0   PassengerId  891 non-null    int64  \n",
      " 1   Survived     891 non-null    int64  \n",
      " 2   Pclass       891 non-null    int64  \n",
      " 3   Name         891 non-null    object \n",
      " 4   Sex          891 non-null    object \n",
      " 5   Age          714 non-null    float64\n",
      " 6   SibSp        891 non-null    int64  \n",
      " 7   Parch        891 non-null    int64  \n",
      " 8   Ticket       891 non-null    object \n",
      " 9   Fare         891 non-null    float64\n",
      " 10  Cabin        204 non-null    object \n",
      " 11  Embarked     889 non-null    object \n",
      "dtypes: float64(2), int64(5), object(5)\n",
      "memory usage: 83.7+ KB\n"
     ]
    }
   ],
   "source": [
    "#Print the column names and their data types.\n",
    "df.info()"
   ]
  },
  {
   "cell_type": "code",
   "execution_count": 63,
   "id": "d99c2468-070e-4d05-b0f0-2add2ca04564",
   "metadata": {},
   "outputs": [
    {
     "data": {
      "text/html": [
       "<div>\n",
       "<style scoped>\n",
       "    .dataframe tbody tr th:only-of-type {\n",
       "        vertical-align: middle;\n",
       "    }\n",
       "\n",
       "    .dataframe tbody tr th {\n",
       "        vertical-align: top;\n",
       "    }\n",
       "\n",
       "    .dataframe thead th {\n",
       "        text-align: right;\n",
       "    }\n",
       "</style>\n",
       "<table border=\"1\" class=\"dataframe\">\n",
       "  <thead>\n",
       "    <tr style=\"text-align: right;\">\n",
       "      <th></th>\n",
       "      <th>PassengerId</th>\n",
       "      <th>Survived</th>\n",
       "      <th>Pclass</th>\n",
       "      <th>Age</th>\n",
       "      <th>SibSp</th>\n",
       "      <th>Parch</th>\n",
       "      <th>Fare</th>\n",
       "    </tr>\n",
       "  </thead>\n",
       "  <tbody>\n",
       "    <tr>\n",
       "      <th>count</th>\n",
       "      <td>891.000000</td>\n",
       "      <td>891.000000</td>\n",
       "      <td>891.000000</td>\n",
       "      <td>714.000000</td>\n",
       "      <td>891.000000</td>\n",
       "      <td>891.000000</td>\n",
       "      <td>891.000000</td>\n",
       "    </tr>\n",
       "    <tr>\n",
       "      <th>mean</th>\n",
       "      <td>446.000000</td>\n",
       "      <td>0.383838</td>\n",
       "      <td>2.308642</td>\n",
       "      <td>29.699118</td>\n",
       "      <td>0.523008</td>\n",
       "      <td>0.381594</td>\n",
       "      <td>32.204208</td>\n",
       "    </tr>\n",
       "    <tr>\n",
       "      <th>std</th>\n",
       "      <td>257.353842</td>\n",
       "      <td>0.486592</td>\n",
       "      <td>0.836071</td>\n",
       "      <td>14.526497</td>\n",
       "      <td>1.102743</td>\n",
       "      <td>0.806057</td>\n",
       "      <td>49.693429</td>\n",
       "    </tr>\n",
       "    <tr>\n",
       "      <th>min</th>\n",
       "      <td>1.000000</td>\n",
       "      <td>0.000000</td>\n",
       "      <td>1.000000</td>\n",
       "      <td>0.420000</td>\n",
       "      <td>0.000000</td>\n",
       "      <td>0.000000</td>\n",
       "      <td>0.000000</td>\n",
       "    </tr>\n",
       "    <tr>\n",
       "      <th>25%</th>\n",
       "      <td>223.500000</td>\n",
       "      <td>0.000000</td>\n",
       "      <td>2.000000</td>\n",
       "      <td>20.125000</td>\n",
       "      <td>0.000000</td>\n",
       "      <td>0.000000</td>\n",
       "      <td>7.910400</td>\n",
       "    </tr>\n",
       "    <tr>\n",
       "      <th>50%</th>\n",
       "      <td>446.000000</td>\n",
       "      <td>0.000000</td>\n",
       "      <td>3.000000</td>\n",
       "      <td>28.000000</td>\n",
       "      <td>0.000000</td>\n",
       "      <td>0.000000</td>\n",
       "      <td>14.454200</td>\n",
       "    </tr>\n",
       "    <tr>\n",
       "      <th>75%</th>\n",
       "      <td>668.500000</td>\n",
       "      <td>1.000000</td>\n",
       "      <td>3.000000</td>\n",
       "      <td>38.000000</td>\n",
       "      <td>1.000000</td>\n",
       "      <td>0.000000</td>\n",
       "      <td>31.000000</td>\n",
       "    </tr>\n",
       "    <tr>\n",
       "      <th>max</th>\n",
       "      <td>891.000000</td>\n",
       "      <td>1.000000</td>\n",
       "      <td>3.000000</td>\n",
       "      <td>80.000000</td>\n",
       "      <td>8.000000</td>\n",
       "      <td>6.000000</td>\n",
       "      <td>512.329200</td>\n",
       "    </tr>\n",
       "  </tbody>\n",
       "</table>\n",
       "</div>"
      ],
      "text/plain": [
       "       PassengerId    Survived      Pclass         Age       SibSp  \\\n",
       "count   891.000000  891.000000  891.000000  714.000000  891.000000   \n",
       "mean    446.000000    0.383838    2.308642   29.699118    0.523008   \n",
       "std     257.353842    0.486592    0.836071   14.526497    1.102743   \n",
       "min       1.000000    0.000000    1.000000    0.420000    0.000000   \n",
       "25%     223.500000    0.000000    2.000000   20.125000    0.000000   \n",
       "50%     446.000000    0.000000    3.000000   28.000000    0.000000   \n",
       "75%     668.500000    1.000000    3.000000   38.000000    1.000000   \n",
       "max     891.000000    1.000000    3.000000   80.000000    8.000000   \n",
       "\n",
       "            Parch        Fare  \n",
       "count  891.000000  891.000000  \n",
       "mean     0.381594   32.204208  \n",
       "std      0.806057   49.693429  \n",
       "min      0.000000    0.000000  \n",
       "25%      0.000000    7.910400  \n",
       "50%      0.000000   14.454200  \n",
       "75%      0.000000   31.000000  \n",
       "max      6.000000  512.329200  "
      ]
     },
     "execution_count": 63,
     "metadata": {},
     "output_type": "execute_result"
    }
   ],
   "source": [
    "#Use .describe() to view basic statistics (mean, min, max, etc.).\n",
    "df.describe()"
   ]
  },
  {
   "cell_type": "markdown",
   "id": "a7a9aff7-3f11-4172-a54c-1d4c55b4c607",
   "metadata": {},
   "source": [
    "##  2-Handle Missing Values\n",
    "     -Check for missing values with .isnull().sum().\n",
    "     -Replace missing Age values with the mean age (using Numpy).\n",
    "     - Fill missing Embarked values with the most common port."
   ]
  },
  {
   "cell_type": "code",
   "execution_count": 64,
   "id": "83a03a80-9678-4171-9171-eea3ee719871",
   "metadata": {},
   "outputs": [
    {
     "data": {
      "text/plain": [
       "PassengerId      0\n",
       "Survived         0\n",
       "Pclass           0\n",
       "Name             0\n",
       "Sex              0\n",
       "Age            177\n",
       "SibSp            0\n",
       "Parch            0\n",
       "Ticket           0\n",
       "Fare             0\n",
       "Cabin          687\n",
       "Embarked         2\n",
       "dtype: int64"
      ]
     },
     "execution_count": 64,
     "metadata": {},
     "output_type": "execute_result"
    }
   ],
   "source": [
    "#Check for missing values with .isnull().sum().\n",
    "df.isnull().sum()"
   ]
  },
  {
   "cell_type": "code",
   "execution_count": 65,
   "id": "3718bb39-d5ed-45e4-8546-944143f5afce",
   "metadata": {},
   "outputs": [],
   "source": [
    "#Replace missing Age values with the mean age (using Numpy).\n",
    "mean_age = df['Age'].mean()\n",
    "df.loc[df['Age'].isnull(),'Age']=mean_age"
   ]
  },
  {
   "cell_type": "code",
   "execution_count": 66,
   "id": "c41d9eac-51fa-4d44-a3a8-000ec109df42",
   "metadata": {},
   "outputs": [
    {
     "name": "stdout",
     "output_type": "stream",
     "text": [
      "\n",
      "Missing values after cleaning:\n",
      "PassengerId    0\n",
      "Survived       0\n",
      "Pclass         0\n",
      "Name           0\n",
      "Sex            0\n",
      "Age            0\n",
      "SibSp          0\n",
      "Parch          0\n",
      "Ticket         0\n",
      "Fare           0\n",
      "Embarked       0\n",
      "dtype: int64\n"
     ]
    }
   ],
   "source": [
    "##Fill missing Embarked values with the most common por\n",
    "most_common_port = \"S\"\n",
    "df.loc[df['Embarked'].isnull(),'Embarked']=most_common_port\n",
    "df.drop(columns=['Cabin'], inplace=True)\n",
    "\n",
    "print(\"\\nMissing values after cleaning:\")\n",
    "print(df.isnull().sum())\n"
   ]
  },
  {
   "cell_type": "markdown",
   "id": "1c074e12-4092-4564-8465-2082e32285f9",
   "metadata": {},
   "source": [
    "## 3-Basic Questions\n",
    "    - How many passengers were onboard?\n",
    "    - What is the average Age?\n",
    "    - What is the average Fare?\n",
    "    - How many males and females were there?\n"
   ]
  },
  {
   "cell_type": "code",
   "execution_count": 67,
   "id": "07a3b6a8-2bfd-4d1b-a4d9-173c03c52583",
   "metadata": {},
   "outputs": [
    {
     "name": "stdout",
     "output_type": "stream",
     "text": [
      "\n",
      "Total number of passengers onboard: 891\n"
     ]
    }
   ],
   "source": [
    "#How many passengers were onboard?\n",
    "num_passengers = len(df)\n",
    "print(f\"\\nTotal number of passengers onboard: {num_passengers}\")"
   ]
  },
  {
   "cell_type": "code",
   "execution_count": 68,
   "id": "c69f7d72-59cb-46f8-b7e8-1c3d92131b6d",
   "metadata": {},
   "outputs": [
    {
     "name": "stdout",
     "output_type": "stream",
     "text": [
      "Average Age of passengers: 29.70 years\n"
     ]
    }
   ],
   "source": [
    "# What is the average Age?\n",
    "avg_age = df['Age'].mean()\n",
    "print(f\"Average Age of passengers: {avg_age:.2f} years\")"
   ]
  },
  {
   "cell_type": "code",
   "execution_count": 69,
   "id": "5a9a1e2d-c675-4e3b-b41b-3c3bfd28e586",
   "metadata": {},
   "outputs": [
    {
     "name": "stdout",
     "output_type": "stream",
     "text": [
      "Average Fare paid: $32.20\n"
     ]
    }
   ],
   "source": [
    "# What is the average Fare?\n",
    "avg_fare = df['Fare'].mean()\n",
    "print(f\"Average Fare paid: ${avg_fare:.2f}\")"
   ]
  },
  {
   "cell_type": "code",
   "execution_count": 70,
   "id": "6c62d9cc-b295-4301-b495-47f52af13a47",
   "metadata": {},
   "outputs": [
    {
     "name": "stdout",
     "output_type": "stream",
     "text": [
      "\n",
      "Gender distribution:\n",
      "Sex\n",
      "male      577\n",
      "female    314\n",
      "Name: count, dtype: int64\n"
     ]
    }
   ],
   "source": [
    "#How many males and females were there?\n",
    "gender_counts = df['Sex'].value_counts()\n",
    "print(\"\\nGender distribution:\")\n",
    "print(gender_counts)"
   ]
  },
  {
   "cell_type": "markdown",
   "id": "97f6569d-fc38-4f66-beef-bf201692e00b",
   "metadata": {},
   "source": [
    "# Part B – Data Analysis (Pandas)"
   ]
  },
  {
   "cell_type": "markdown",
   "id": "9dcf7887-94aa-4bcb-adc9-299823f6018c",
   "metadata": {},
   "source": [
    "## 4- Survival Analysis\n",
    "   - How many survived vs. did not survive?\n",
    "   - What percentage of passengers survived?\n"
   ]
  },
  {
   "cell_type": "code",
   "execution_count": 71,
   "id": "dc865959-3d65-4050-99ed-ac63cfe6ee7a",
   "metadata": {},
   "outputs": [
    {
     "name": "stdout",
     "output_type": "stream",
     "text": [
      "\n",
      "Survival Count (0 = No, 1 = Yes):\n",
      "Survived\n",
      "0    549\n",
      "1    342\n",
      "Name: count, dtype: int64\n"
     ]
    }
   ],
   "source": [
    "# How many survived vs. did not survive?\n",
    "survival_counts = df['Survived'].value_counts()\n",
    "print(\"\\nSurvival Count (0 = No, 1 = Yes):\")\n",
    "print(survival_counts)"
   ]
  },
  {
   "cell_type": "code",
   "execution_count": 72,
   "id": "e92700bc-f496-4bdc-bee1-068503f59f80",
   "metadata": {},
   "outputs": [
    {
     "name": "stdout",
     "output_type": "stream",
     "text": [
      "\n",
      "Survival Percentage:\n",
      "38.38% survived.\n"
     ]
    }
   ],
   "source": [
    "# What percentage of passengers survived?\n",
    "survival_percentage = df['Survived'].value_counts(normalize=True) * 100\n",
    "print(\"\\nSurvival Percentage:\")\n",
    "print(f\"{survival_percentage[1]:.2f}% survived.\")"
   ]
  },
  {
   "cell_type": "markdown",
   "id": "e7c57952-31f9-4830-a662-0f6e99ba0b13",
   "metadata": {},
   "source": [
    "## 5-Survival by Class (Pclass)\n",
    "   - Find survival rates for 1st, 2nd, and 3rd class.\n",
    "   - Which class had the highest chance of survival?\n"
   ]
  },
  {
   "cell_type": "code",
   "execution_count": 73,
   "id": "22352110-2bbe-4f10-ae23-489ecf113d8e",
   "metadata": {},
   "outputs": [
    {
     "name": "stdout",
     "output_type": "stream",
     "text": [
      "\n",
      "Survival Rate by Ticket Class (%):\n",
      "Pclass\n",
      "1    62.962963\n",
      "2    47.282609\n",
      "3    24.236253\n",
      "Name: Survived, dtype: float64\n",
      "The class with the highest chance of survival was Class 1.\n"
     ]
    }
   ],
   "source": [
    "survival_by_class = df.groupby('Pclass')['Survived'].mean() * 100\n",
    "print(\"\\nSurvival Rate by Ticket Class (%):\")\n",
    "print(survival_by_class)\n",
    "print(f\"The class with the highest chance of survival was Class {survival_by_class.idxmax()}.\") \n"
   ]
  },
  {
   "cell_type": "markdown",
   "id": "814c71a3-ef58-4e46-8d1f-6567867cad99",
   "metadata": {},
   "source": [
    "## 6-Survival by Age Group\n",
    "    - Divide passengers into age groups:\n",
    "    - 0–12 = Child\n",
    "    - 13–19 = Teen\n",
    "    - 20–40 = Adult\n",
    "    - 41+ = Senior\n",
    "    - Calculate survival rate for each group.\n",
    "\n",
    "\n"
   ]
  },
  {
   "cell_type": "code",
   "execution_count": 74,
   "id": "20f4c1eb-d567-493b-b819-d11d93141ff1",
   "metadata": {},
   "outputs": [],
   "source": [
    "bins = [0, 12, 19, 40, df['Age'].max()]\n",
    "labels = ['Child', 'Teen', 'Adult', 'Senior']\n",
    "df['AgeGroup'] = pd.cut(df['Age'], bins=bins, labels=labels, right=False)"
   ]
  },
  {
   "cell_type": "code",
   "execution_count": 75,
   "id": "184d2243-2916-48fa-8b42-d7dc38824079",
   "metadata": {},
   "outputs": [
    {
     "name": "stdout",
     "output_type": "stream",
     "text": [
      "\n",
      "Survival Rate by Age Group (%):\n",
      "AgeGroup\n",
      "Child     57.352941\n",
      "Teen      43.661972\n",
      "Adult     35.823430\n",
      "Senior    37.037037\n",
      "Name: Survived, dtype: float64\n"
     ]
    },
    {
     "name": "stderr",
     "output_type": "stream",
     "text": [
      "C:\\Users\\LENOVO\\AppData\\Local\\Temp\\ipykernel_11836\\1186415363.py:1: FutureWarning: The default of observed=False is deprecated and will be changed to True in a future version of pandas. Pass observed=False to retain current behavior or observed=True to adopt the future default and silence this warning.\n",
      "  survival_by_age_group = df.groupby('AgeGroup')['Survived'].mean() * 100\n"
     ]
    }
   ],
   "source": [
    "survival_by_age_group = df.groupby('AgeGroup')['Survived'].mean() * 100\n",
    "print(\"\\nSurvival Rate by Age Group (%):\")\n",
    "print(survival_by_age_group)\n"
   ]
  },
  {
   "cell_type": "markdown",
   "id": "7083d4e9-05b2-423d-84e6-c2b412da456b",
   "metadata": {},
   "source": [
    "# Part C – Visualization (Matplotlib & Seaborn)\n"
   ]
  },
  {
   "cell_type": "markdown",
   "id": "f048492f-2968-43e6-ba10-9fe736164cd3",
   "metadata": {},
   "source": [
    "## 7-Matplotlib\n",
    "    - Bar chart: Number of survivors (0 vs 1).\n",
    "    - Histogram: Distribution of passenger ages (bins = 20).\n",
    "    - Pie chart: Gender distribution.\n"
   ]
  },
  {
   "cell_type": "code",
   "execution_count": 76,
   "id": "d3779391-906b-4f53-b7aa-30447124e0cb",
   "metadata": {},
   "outputs": [
    {
     "data": {
      "image/png": "[encoded data removed]",
      "text/plain": [
       "<Figure size 640x480 with 1 Axes>"
      ]
     },
     "metadata": {},
     "output_type": "display_data"
    }
   ],
   "source": [
    "# Bar chart: Number of survivors (0 vs 1).\n",
    "plt.figure()\n",
    "survival_counts.plot(kind='bar', rot=0)\n",
    "plt.title('Number of Survivors (0 = No, 1 = Yes)')\n",
    "plt.xlabel('Survived')\n",
    "plt.ylabel('Count')\n",
    "#plt.savefig('survival_bar_chart.png')\n",
    "plt.show()"
   ]
  },
  {
   "cell_type": "code",
   "execution_count": 77,
   "id": "aa20ab3f-3423-45a9-86a9-c16f77b4ee53",
   "metadata": {},
   "outputs": [
    {
     "data": {
      "image/png": "[encoded data removed]",
      "text/plain": [
       "<Figure size 640x480 with 1 Axes>"
      ]
     },
     "metadata": {},
     "output_type": "display_data"
    }
   ],
   "source": [
    "# Histogram: Distribution of passenger ages (bins = 20).\n",
    "plt.figure()\n",
    "df['Age'].plot(kind='hist', bins=20)\n",
    "plt.title('Distribution of Passenger Ages')\n",
    "plt.xlabel('Age')\n",
    "plt.ylabel('Frequency')\n",
    "#plt.savefig('age_histogram.png')\n",
    "plt.show()"
   ]
  },
  {
   "cell_type": "code",
   "execution_count": 78,
   "id": "82ea3ec9-16e0-4123-aaa0-20d1074c6fce",
   "metadata": {},
   "outputs": [
    {
     "data": {
      "image/png": "[encoded data removed]",
      "text/plain": [
       "<Figure size 640x480 with 1 Axes>"
      ]
     },
     "metadata": {},
     "output_type": "display_data"
    }
   ],
   "source": [
    "# Pie chart: Gender distribution.\n",
    "plt.figure()\n",
    "gender_counts.plot(kind='pie', autopct='%1.1f%%', startangle=90)\n",
    "plt.title('Gender Distribution')\n",
    "plt.ylabel('')\n",
    "plt.show()"
   ]
  },
  {
   "cell_type": "markdown",
   "id": "ce883536-0492-41e4-9348-483ae93dfe75",
   "metadata": {},
   "source": [
    "## 8-Seaborn\n",
    "    - Countplot: Survived by Sex (Who survived more?).\n",
    "    - Boxplot: Fare by Pclass (Which class paid more?).\n",
    "    - Violinplot: Age by Survived (Age distribution among survivors).\n",
    "    - Heatmap: Correlation between numerical columns (Age, Fare, Pclass, Survived).\n"
   ]
  },
  {
   "cell_type": "code",
   "execution_count": 79,
   "id": "dbd6a701-1f51-40fa-84eb-bdeddec71697",
   "metadata": {},
   "outputs": [
    {
     "data": {
      "image/png": "[encoded data removed]",
      "text/plain": [
       "<Figure size 640x480 with 1 Axes>"
      ]
     },
     "metadata": {},
     "output_type": "display_data"
    }
   ],
   "source": [
    "#Countplot: Survived by Sex (Who survived more?).\n",
    "plt.figure()\n",
    "sns.countplot(x='Survived', hue='Sex', data=df)\n",
    "plt.title('Survival Count by Gender')\n",
    "plt.show()"
   ]
  },
  {
   "cell_type": "code",
   "execution_count": 80,
   "id": "6bd98f80-77e7-4cb4-9fc1-c27d67b96c2c",
   "metadata": {},
   "outputs": [
    {
     "data": {
      "image/png": "[encoded data removed]",
      "text/plain": [
       "<Figure size 640x480 with 1 Axes>"
      ]
     },
     "metadata": {},
     "output_type": "display_data"
    }
   ],
   "source": [
    "#Boxplot: Fare by Pclass (Which class paid more?).\n",
    "plt.figure()\n",
    "sns.boxplot(x='Pclass', y='Fare', data=df)\n",
    "plt.title('Fare Distribution by Ticket Class')\n",
    "plt.show()"
   ]
  },
  {
   "cell_type": "code",
   "execution_count": 81,
   "id": "51fc35ac-2df0-43b5-9715-c5820857032c",
   "metadata": {},
   "outputs": [
    {
     "data": {
      "image/png": "[encoded data removed]",
      "text/plain": [
       "<Figure size 640x480 with 1 Axes>"
      ]
     },
     "metadata": {},
     "output_type": "display_data"
    }
   ],
   "source": [
    "#Violinplot: Age by Survived (Age distribution among survivors).\n",
    "plt.figure()\n",
    "sns.violinplot(x='Survived', y='Age', data=df)\n",
    "plt.title('Age Distribution by Survival Status')\n",
    "plt.show()"
   ]
  },
  {
   "cell_type": "code",
   "execution_count": 82,
   "id": "d886c31f-bd35-4e73-b7fa-75319cd34f9c",
   "metadata": {},
   "outputs": [
    {
     "data": {
      "image/png": "[encoded data removed]",
      "text/plain": [
       "<Figure size 640x480 with 2 Axes>"
      ]
     },
     "metadata": {},
     "output_type": "display_data"
    }
   ],
   "source": [
    "# Heatmap: Correlation between numerical columns (Age, Fare, Pclass, Survived).\n",
    "plt.figure()\n",
    "numeric_cols = df[['Age', 'Fare', 'Pclass', 'Survived', 'SibSp', 'Parch']]\n",
    "sns.heatmap(numeric_cols.corr(), annot=True, cmap='coolwarm', fmt='.2f')\n",
    "plt.title('Correlation Matrix of Numerical Features')\n",
    "plt.show()"
   ]
  },
  {
   "cell_type": "markdown",
   "id": "bb579489-ed8a-411b-b362-6e112d359552",
   "metadata": {},
   "source": [
    "# Part D – Probability Concepts\n"
   ]
  },
  {
   "cell_type": "markdown",
   "id": "bbe5df38-5fdf-4598-8da5-a06e7d9b3f46",
   "metadata": {},
   "source": [
    "## Now let’s connect Titanic survival with Probability Theory.\n",
    "### 1. Empirical Probability (From Data)\n",
    "    - Empirical probability = Favorable Outcomes ÷ Total Outcomes\n",
    "    - Examples:\n",
    "    - Probability a passenger survived:\n",
    "     - P(Survived) = Survivors / Total Passengers\n",
    "    - Probability a female survived:\n",
    "     - P(\\text{Female Survived}) = Surviving Females / Total Females\n",
    "    - Probability a male survived:\n",
    "     - P(\\text{Male Survived}) = Surviving Males / Total Males\n",
    "    - Compare probabilities across Pclass.\n",
    "    - 👉 These values come directly from the dataset\n"
   ]
  },
  {
   "cell_type": "code",
   "execution_count": 83,
   "id": "3fd88774-b8b1-4c33-81fb-c4f9f5fb7874",
   "metadata": {},
   "outputs": [
    {
     "name": "stdout",
     "output_type": "stream",
     "text": [
      "\n",
      "Empirical P(Survived): 0.3838\n",
      "Empirical P(Female Survived): 0.7420\n",
      "Empirical P(Male Survived): 0.1889\n",
      "\n",
      "Empirical P(Survived) by Class:\n",
      "Pclass\n",
      "1    0.629630\n",
      "2    0.472826\n",
      "3    0.242363\n",
      "Name: Survived, dtype: float64\n"
     ]
    }
   ],
   "source": [
    "p_survived = df['Survived'].mean()\n",
    "print(f\"\\nEmpirical P(Survived): {p_survived:.4f}\")\n",
    "\n",
    "p_female_survived = df[df['Sex'] == 'female']['Survived'].mean()\n",
    "print(f\"Empirical P(Female Survived): {p_female_survived:.4f}\")\n",
    "\n",
    "p_male_survived = df[df['Sex'] == 'male']['Survived'].mean()\n",
    "print(f\"Empirical P(Male Survived): {p_male_survived:.4f}\")\n",
    "\n",
    "print(\"\\nEmpirical P(Survived) by Class:\")\n",
    "print(df.groupby('Pclass')['Survived'].mean())"
   ]
  },
  {
   "cell_type": "markdown",
   "id": "e6c25909-98dd-4ea1-bd90-60e2be647fdd",
   "metadata": {},
   "source": [
    "## 2. Theoretical Probability (Assumptions)\n",
    "    - Imagine survival was random or equally likely for everyone.\n",
    "    - Then, P(Survived)=0.5 (like flipping a coin).\n",
    "    - Each class (Pclass) should have the same chance of survival → 1 / 3\n",
    "    - Gender should not matter.\n",
    "    - 👉 These values are assumptions, not based on data.\n"
   ]
  },
  {
   "cell_type": "code",
   "execution_count": 84,
   "id": "50bae0fb-6b5d-4c2d-9f5b-642f1d6f5eab",
   "metadata": {},
   "outputs": [
    {
     "name": "stdout",
     "output_type": "stream",
     "text": [
      "\n",
      "Comparison with Theoretical Probability:\n",
      "The assignment assumes a theoretical P(Survived) of 0.5\n",
      "The empirical P(Survived) is 0.3838, which shows survival was not a random 50/50 chance.\n"
     ]
    }
   ],
   "source": [
    "print(\"\\nComparison with Theoretical Probability:\")\n",
    "print(\"The assignment assumes a theoretical P(Survived) of 0.5\" )\n",
    "print(f\"The empirical P(Survived) is {p_survived:.4f}, which shows survival was not a random 50/50 chance.\")"
   ]
  },
  {
   "cell_type": "markdown",
   "id": "f6924fab-7d46-4dff-8162-493cb6a14945",
   "metadata": {},
   "source": [
    "# Part E – Insights & Reporting\n"
   ]
  },
  {
   "cell_type": "markdown",
   "id": "b9c88bb1-47f8-4e27-ac18-4ab360d509a8",
   "metadata": {},
   "source": [
    "## 9-Answer the following in your notebook/report:\n",
    "      - Did women survive at a higher rate than men?\n",
    "      - Which class had the best survival chance?\n",
    "      - Did age play a role in survival?\n",
    "      - Was Fare (ticket price) related to survival?\n",
    "      - How do empirical probabilities differ from theoretical probabilities?\n",
    "## 10-Summarize your analysis in 5–7 bullet points.\n",
    "## 11-Save your work as Titanic_Analysis.ipynb with:\n",
    "    - Cleaned data\n",
    "    - All visualizations\n",
    "    - Probability calculations\n",
    "    - Final insights\n"
   ]
  },
  {
   "cell_type": "markdown",
   "id": "8531f38f-9f9c-4c6b-85dc-28836f8a2cb0",
   "metadata": {},
   "source": [
    "## Did women survive more than men?\n",
    "- Yes, absolutely. Women were far more likely to survive. About 74% of women made it, while only 19% of men did. This was the biggest factor in who survived.\n",
    "\n",
    "## Which class had the best chance of survival?\n",
    "- First-class passengers had the best chance. About 63% of them survived. The richest people had the easiest access to the lifeboats on the top decks of the ship. Third-class had the worst chance.\n",
    "\n",
    "## Did age matter for survival?\n",
    "- Yes, it did. Children were more likely to survive than adults. This shows that the \"women and children first\" rule was followed during the rescue.\n",
    "\n",
    "## Was the ticket price (Fare) related to survival?\n",
    "- Yes. A higher ticket price meant you were in a better class and had a much better chance of surviving. Fare and Class are very closely related.\n",
    "\n",
    "## What's the difference between \"Empirical\" and \"Theoretical\" probability?\n",
    "- It's the difference between what really happened versus a simple guess.\n",
    "\n",
    "- Theoretical Probability: This is a guess based on perfect conditions. For example, a coin has a 50/50 chance of landing on heads. If survival was random, you might guess everyone had a 50% chance.\n",
    "\n",
    "- Empirical Probability: This is what the actual data tells you. We looked at the real numbers and found that only 38% of people survived. This real result proves that survival wasn't a random 50/50 chance.\n",
    "\n",
    "## Summary of Your Analysis (Key Points)\n",
    "- Here are the most important findings from the Titanic data:\n",
    "\n",
    "- Gender was the biggest factor: Being a woman gave you the best chance to survive.\n",
    "\n",
    "- Money made a huge difference: Rich, first-class passengers were much safer than poor, third-class passengers.\n",
    "\n",
    "- \"Women and children first\" was real: The data shows that both women and children were given priority for the lifeboats.\n",
    "\n",
    "- Survival was not random luck: The real numbers (empirical probability) prove that a person's social status, gender, and age were the keys to survival.\n",
    "\n",
    "- Where you were on the ship mattered: First-class cabins were on the top decks, close to the lifeboats. Third-class was deep inside the ship, making it hard to get out.\n",
    "\n",
    "- The saddest truth: Your best chance was to be a rich woman, and your worst chance was to be a poor man."
   ]
  },
  {
   "cell_type": "code",
   "execution_count": null,
   "id": "56d2524c-8338-48e1-818f-eba393ceceeb",
   "metadata": {},
   "outputs": [],
   "source": []
  },
  {
   "cell_type": "code",
   "execution_count": null,
   "id": "f81f3373-d0ad-4516-a383-25fbdefa1cf1",
   "metadata": {},
   "outputs": [],
   "source": []
  },
  {
   "cell_type": "code",
   "execution_count": null,
   "id": "d040a648-ed72-4e9b-b3ac-b409b70252aa",
   "metadata": {},
   "outputs": [],
   "source": []
  }
 ],
 "metadata": {
  "kernelspec": {
   "display_name": "Python 3 (ipykernel)",
   "language": "python",
   "name": "python3"
  },
  "language_info": {
   "codemirror_mode": {
    "name": "ipython",
    "version": 3
   },
   "file_extension": ".py",
   "mimetype": "text/x-python",
   "name": "python",
   "nbconvert_exporter": "python",
   "pygments_lexer": "ipython3",
   "version": "3.13.1"
  }
 },
 "nbformat": 4,
 "nbformat_minor": 5
}
