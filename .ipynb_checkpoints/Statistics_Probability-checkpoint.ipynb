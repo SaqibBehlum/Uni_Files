{
 "cells": [
  {
   "cell_type": "code",
   "execution_count": 4,
   "id": "bcab2ba0-7706-4eef-a8e0-22f148fde23d",
   "metadata": {},
   "outputs": [],
   "source": [
    "import pandas as pd\n",
    "import numpy as np\n",
    "import matplotlib.pyplot as plt\n",
    "import seaborn as sns"
   ]
  },
  {
   "cell_type": "code",
   "execution_count": 5,
   "id": "fc8e7da2-88e9-4ce4-9fb6-725a601cabef",
   "metadata": {},
   "outputs": [
    {
     "name": "stdout",
     "output_type": "stream",
     "text": [
      "therotical Probablity of H:0.5\n",
      "Emprical Probablity:0.46\n"
     ]
    }
   ],
   "source": [
    "# coin tass\n",
    "# therotical probability :\n",
    "ss = {\"H\",\"T\"}\n",
    "#therotical formula = 1/len(ss)\n",
    "#print(f\"therotical Probablity of H:{therotical formula[\"blue\"]}\")\n",
    "print(f\"therotical Probablity of H:{1/len(ss)}\")\n",
    "# toss a coin 100 times simulate in python\n",
    "ss1 = np.random.choice([\"H\",\"T\"], size = 100)\n",
    "ss1 = pd.Series(ss1)\n",
    "#ss1.value_counts()[\"H\"]/len(ss1)  # emprical probablity \n",
    "#print(f\"Emprical Probablity:{ss1.value_counts()[\"H\"]/len(ss1)}\")   # emprical probablity \n",
    "print(f\"Emprical Probablity:{ss1.value_counts(normalize = True)[\"H\"]}\")   # emprical probablity "
   ]
  },
  {
   "cell_type": "markdown",
   "id": "9e622e37-a820-4cc7-838f-de9ef0fe8e9d",
   "metadata": {},
   "source": [
    "scenario : A bag has 3 red balls, 5 blue balls, 2 green balls.\n",
    "therotical probablity of picking a blue ball \n",
    "emperical : Simluate drawing 1000 balls randemly. extimate the probablity and compare with others"
   ]
  },
  {
   "cell_type": "code",
   "execution_count": 6,
   "id": "6dab26ff-5a03-473c-a1f0-ca98d82bf532",
   "metadata": {},
   "outputs": [
    {
     "name": "stdout",
     "output_type": "stream",
     "text": [
      "therotical Probablity of H:0.5\n",
      "Emprical Probablity:0.325\n"
     ]
    }
   ],
   "source": [
    "balls = [\"red\"]*3+[\"blue\"]*5+[\"green\"]*2\n",
    "print(f\"therotical Probablity of H:{5/len(balls)}\")\n",
    "balls1 = np.random.choice([\"red\",\"green\",\"blue\"], size = 1000)\n",
    "balls1 = pd.Series(balls1)\n",
    "print(f\"Emprical Probablity:{balls1.value_counts()[\"red\"]/len(balls1)}\") "
   ]
  },
  {
   "cell_type": "code",
   "execution_count": null,
   "id": "eb79f2f1-d724-44c3-9016-42fd5ce60923",
   "metadata": {},
   "outputs": [],
   "source": [
    "#expeiment : roll a dice twice and find the probabilty of = 7\n",
    "#trial: 100 times and fine emrical probality of pair gettig sum of 7 "
   ]
  },
  {
   "cell_type": "code",
   "execution_count": 70,
   "id": "79665cc5-26bf-49e9-88d8-bf427aec9d08",
   "metadata": {},
   "outputs": [
    {
     "name": "stdout",
     "output_type": "stream",
     "text": [
      "17\n",
      "Therotical Probabilty:0.16666666666666666 \n",
      "Emprical Probablity:0.17\n"
     ]
    },
    {
     "data": {
      "text/plain": [
       "(array([ 3.,  6.,  7., 17., 12., 17., 14., 11.,  6.,  3.,  4.]),\n",
       " array([ 2.,  3.,  4.,  5.,  6.,  7.,  8.,  9., 10., 11., 12., 13.]),\n",
       " <BarContainer object of 11 artists>)"
      ]
     },
     "execution_count": 70,
     "metadata": {},
     "output_type": "execute_result"
    },
    {
     "data": {
      "image/png": "[encoded data removed]",
      "text/plain": [
       "<Figure size 640x480 with 1 Axes>"
      ]
     },
     "metadata": {},
     "output_type": "display_data"
    }
   ],
   "source": [
    "\n",
    "trails = 100\n",
    "dice1 = np.random.randint(1,7, size = trails)\n",
    "dice1 = np.random.randint(1,7, size = trails)\n",
    "\n",
    "     # OR \n",
    "# np.random.seed(42)   # ya reslut ak har dafa change nhi kary ga  \n",
    "# random = range(1,7)\n",
    "# dice1 = np.random.choice(random, size = 100)\n",
    "# dice2 = np.random.choice(random, size = 100)\n",
    "sum_of = dice1 + dice2\n",
    "value_7 = (sum_of == 7)\n",
    "print (value_7.sum())\n",
    "print(f\"Therotical Probabilty:{6/36} \")\n",
    "print(f\"Emprical Probablity:{value_7 .sum()/trails}\")\n",
    "\n",
    "plt.hist(sum_of, bins=np.arange(2,14))\n",
    "plt."
   ]
  },
  {
   "cell_type": "code",
   "execution_count": 33,
   "id": "568c4b0f-4fa5-43bb-88c1-18bcb9005a06",
   "metadata": {},
   "outputs": [
    {
     "data": {
      "text/plain": [
       "array([1, 4, 5, 1, 5, 4, 6, 3, 5, 4, 6, 5, 6, 2, 2, 4, 4, 1, 3, 6, 6, 6,\n",
       "       2, 5, 1, 1, 1, 1, 1, 2, 1, 5, 6, 1, 2, 4, 4, 5, 1, 2, 3, 6, 4, 3,\n",
       "       5, 6, 4, 1, 4, 6, 3, 2, 5, 1, 2, 2, 1, 1, 2, 3, 2, 1, 3, 3, 6, 3,\n",
       "       4, 1, 4, 4, 5, 4, 1, 5, 3, 4, 3, 6, 2, 6, 6, 6, 4, 2, 5, 3, 3, 3,\n",
       "       4, 5, 5, 5, 1, 3, 4, 4, 3, 1, 5, 6])"
      ]
     },
     "execution_count": 33,
     "metadata": {},
     "output_type": "execute_result"
    }
   ],
   "source": [
    "dice1"
   ]
  },
  {
   "cell_type": "code",
   "execution_count": 37,
   "id": "46aa21c1-36f2-4f21-9eae-977e69a99c47",
   "metadata": {},
   "outputs": [
    {
     "data": {
      "text/plain": [
       "array([ 3,  5,  8,  3,  7,  6, 12,  6, 11,  5, 12,  9,  7,  4,  6,  8,  9,\n",
       "        7,  8,  7,  8,  7,  5, 10,  3,  4,  6,  2,  4,  4,  2, 10,  7,  6,\n",
       "        4,  8,  9,  7,  3,  5,  9, 11,  9,  4,  9, 11,  9,  5, 10, 12,  8,\n",
       "        5,  7,  3,  7,  3,  5,  5,  4,  8,  7,  2,  7,  5, 10,  4,  9,  3,\n",
       "        8,  7, 11,  6,  5,  7,  9,  7,  8, 12,  5,  7, 11,  7,  6,  5, 11,\n",
       "        5,  8,  9,  5,  8,  7,  9,  2,  4,  9,  7,  5,  2,  7, 12])"
      ]
     },
     "execution_count": 37,
     "metadata": {},
     "output_type": "execute_result"
    }
   ],
   "source": [
    "Sum_0f = dice1 + dice2\n",
    "Sum_0f"
   ]
  },
  {
   "cell_type": "code",
   "execution_count": 45,
   "id": "020e5712-ed45-4e38-888a-46d0ad63564b",
   "metadata": {},
   "outputs": [
    {
     "name": "stdout",
     "output_type": "stream",
     "text": [
      "19\n"
     ]
    }
   ],
   "source": [
    "value_7 = (Sum_0f == 7)\n",
    "print (value_7 .sum())"
   ]
  },
  {
   "cell_type": "code",
   "execution_count": 41,
   "id": "b43ad52f-53ee-4f24-b141-edd213f6ac34",
   "metadata": {},
   "outputs": [],
   "source": [
    "dice2 = pd.Series(dice)"
   ]
  },
  {
   "cell_type": "code",
   "execution_count": 28,
   "id": "6c22b4bd-ee23-47bb-a071-cfc370660cb8",
   "metadata": {},
   "outputs": [
    {
     "data": {
      "text/plain": [
       "0     4\n",
       "1     2\n",
       "2     5\n",
       "3     6\n",
       "4     6\n",
       "     ..\n",
       "95    3\n",
       "96    2\n",
       "97    1\n",
       "98    1\n",
       "99    5\n",
       "Length: 100, dtype: int64"
      ]
     },
     "execution_count": 28,
     "metadata": {},
     "output_type": "execute_result"
    }
   ],
   "source": [
    "dice2"
   ]
  },
  {
   "cell_type": "code",
   "execution_count": 30,
   "id": "b515b94c-1da6-48c5-904d-f50c25948501",
   "metadata": {},
   "outputs": [
    {
     "name": "stdout",
     "output_type": "stream",
     "text": [
      "Emprical Probablity:4    0.015\n",
      "2    0.022\n",
      "5    0.016\n",
      "6    0.014\n",
      "6    0.014\n",
      "     ...  \n",
      "3    0.016\n",
      "2    0.022\n",
      "1    0.017\n",
      "1    0.017\n",
      "5    0.016\n",
      "Name: count, Length: 100, dtype: float64\n"
     ]
    }
   ],
   "source": [
    "print(f\"Emprical Probablity:{dice2.value_counts()[dice]/len(balls1)}\") "
   ]
  },
  {
   "cell_type": "code",
   "execution_count": 84,
   "id": "c27b6e13-37fd-48a2-9789-ff50fab97a25",
   "metadata": {},
   "outputs": [
    {
     "name": "stdout",
     "output_type": "stream",
     "text": [
      "Calculate Probablities(PMF):\n",
      "{np.int32(1): np.float64(0.0016), np.int32(2): np.float64(0.0015), np.int32(3): np.float64(0.0018), np.int32(4): np.float64(0.0021), np.int32(5): np.float64(0.0014), np.int32(6): np.float64(0.0016)}\n"
     ]
    },
    {
     "data": {
      "text/plain": [
       "<BarContainer object of 6 artists>"
      ]
     },
     "execution_count": 84,
     "metadata": {},
     "output_type": "execute_result"
    },
    {
     "data": {
      "image/png": "[encoded data removed]",
      "text/plain": [
       "<Figure size 640x480 with 1 Axes>"
      ]
     },
     "metadata": {},
     "output_type": "display_data"
    }
   ],
   "source": [
    "trails1 = 10000\n",
    "dice_1 = np.random.randint(1,7, size = trails)\n",
    "dice_1\n",
    "outcomes,count = np.unique(dice_1,return_counts = True)\n",
    "probalitites = count/trails1\n",
    "#pmf_dic = dict(zip(outcomes,probalitites))\n",
    "pmf_dict = {outcomes[i]:probalitites[i]for i in range(len(outcomes))}\n",
    "print(\"Calculate Probablities(PMF):\")\n",
    "print(pmf_dict)\n",
    "plt.bar(x=outcomes, height=pmf_dict)\n",
    "plt.bar(outcomes,probalitites)"
   ]
  },
  {
   "cell_type": "code",
   "execution_count": null,
   "id": "425c6514-af1b-4e88-8877-64229b5a4aa1",
   "metadata": {},
   "outputs": [],
   "source": []
  }
 ],
 "metadata": {
  "kernelspec": {
   "display_name": "Python 3 (ipykernel)",
   "language": "python",
   "name": "python3"
  },
  "language_info": {
   "codemirror_mode": {
    "name": "ipython",
    "version": 3
   },
   "file_extension": ".py",
   "mimetype": "text/x-python",
   "name": "python",
   "nbconvert_exporter": "python",
   "pygments_lexer": "ipython3",
   "version": "3.13.1"
  }
 },
 "nbformat": 4,
 "nbformat_minor": 5
}
