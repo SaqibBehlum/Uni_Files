{
 "cells": [
  {
   "cell_type": "code",
   "execution_count": null,
   "id": "36de4a9b-f6b7-4cba-b84f-964af8d8aba6",
   "metadata": {},
   "outputs": [],
   "source": [
    "# pip install statsmodels"
   ]
  },
  {
   "cell_type": "code",
   "execution_count": 63,
   "id": "44ce427d-8d67-4bd1-bf85-18d24a4e4710",
   "metadata": {},
   "outputs": [],
   "source": [
    "import numpy as np\n",
    "import pandas as pd \n",
    "import matplotlib.pyplot as plt\n",
    "import seaborn as sns \n",
    "import math\n",
    "from statsmodels.stats.weightstats import ztest"
   ]
  },
  {
   "cell_type": "markdown",
   "id": "dd40a7b5-5964-4c33-ae8f-c81a87f53319",
   "metadata": {},
   "source": [
    "# Data Loading & Initial Exploration\n",
    "- Load the dataset (CSV) into a Pandas DataFrame.\n",
    "\n",
    "\n",
    "- Display the first few rows, data types, and summary statistics using .describe() and .dtypes.\n",
    "\n",
    "\n",
    "- Check and handle any missing values (if present).\n"
   ]
  },
  {
   "cell_type": "code",
   "execution_count": 64,
   "id": "42a1f9a7-26ab-4833-a719-e8b41b90d87f",
   "metadata": {},
   "outputs": [],
   "source": [
    "df = pd.read_csv(\"diabetes_prediction_dataset.csv\")"
   ]
  },
  {
   "cell_type": "code",
   "execution_count": 65,
   "id": "c9a5031c-c72e-4879-8357-9b46ac8f1e92",
   "metadata": {},
   "outputs": [
    {
     "data": {
      "text/html": [
       "<div>\n",
       "<style scoped>\n",
       "    .dataframe tbody tr th:only-of-type {\n",
       "        vertical-align: middle;\n",
       "    }\n",
       "\n",
       "    .dataframe tbody tr th {\n",
       "        vertical-align: top;\n",
       "    }\n",
       "\n",
       "    .dataframe thead th {\n",
       "        text-align: right;\n",
       "    }\n",
       "</style>\n",
       "<table border=\"1\" class=\"dataframe\">\n",
       "  <thead>\n",
       "    <tr style=\"text-align: right;\">\n",
       "      <th></th>\n",
       "      <th>gender</th>\n",
       "      <th>age</th>\n",
       "      <th>hypertension</th>\n",
       "      <th>heart_disease</th>\n",
       "      <th>smoking_history</th>\n",
       "      <th>bmi</th>\n",
       "      <th>HbA1c_level</th>\n",
       "      <th>blood_glucose_level</th>\n",
       "      <th>diabetes</th>\n",
       "    </tr>\n",
       "  </thead>\n",
       "  <tbody>\n",
       "    <tr>\n",
       "      <th>0</th>\n",
       "      <td>Female</td>\n",
       "      <td>80.0</td>\n",
       "      <td>0</td>\n",
       "      <td>1</td>\n",
       "      <td>never</td>\n",
       "      <td>25.19</td>\n",
       "      <td>6.6</td>\n",
       "      <td>140</td>\n",
       "      <td>0</td>\n",
       "    </tr>\n",
       "    <tr>\n",
       "      <th>1</th>\n",
       "      <td>Female</td>\n",
       "      <td>54.0</td>\n",
       "      <td>0</td>\n",
       "      <td>0</td>\n",
       "      <td>No Info</td>\n",
       "      <td>27.32</td>\n",
       "      <td>6.6</td>\n",
       "      <td>80</td>\n",
       "      <td>0</td>\n",
       "    </tr>\n",
       "    <tr>\n",
       "      <th>2</th>\n",
       "      <td>Male</td>\n",
       "      <td>28.0</td>\n",
       "      <td>0</td>\n",
       "      <td>0</td>\n",
       "      <td>never</td>\n",
       "      <td>27.32</td>\n",
       "      <td>5.7</td>\n",
       "      <td>158</td>\n",
       "      <td>0</td>\n",
       "    </tr>\n",
       "    <tr>\n",
       "      <th>3</th>\n",
       "      <td>Female</td>\n",
       "      <td>36.0</td>\n",
       "      <td>0</td>\n",
       "      <td>0</td>\n",
       "      <td>current</td>\n",
       "      <td>23.45</td>\n",
       "      <td>5.0</td>\n",
       "      <td>155</td>\n",
       "      <td>0</td>\n",
       "    </tr>\n",
       "    <tr>\n",
       "      <th>4</th>\n",
       "      <td>Male</td>\n",
       "      <td>76.0</td>\n",
       "      <td>1</td>\n",
       "      <td>1</td>\n",
       "      <td>current</td>\n",
       "      <td>20.14</td>\n",
       "      <td>4.8</td>\n",
       "      <td>155</td>\n",
       "      <td>0</td>\n",
       "    </tr>\n",
       "  </tbody>\n",
       "</table>\n",
       "</div>"
      ],
      "text/plain": [
       "   gender   age  hypertension  heart_disease smoking_history    bmi  \\\n",
       "0  Female  80.0             0              1           never  25.19   \n",
       "1  Female  54.0             0              0         No Info  27.32   \n",
       "2    Male  28.0             0              0           never  27.32   \n",
       "3  Female  36.0             0              0         current  23.45   \n",
       "4    Male  76.0             1              1         current  20.14   \n",
       "\n",
       "   HbA1c_level  blood_glucose_level  diabetes  \n",
       "0          6.6                  140         0  \n",
       "1          6.6                   80         0  \n",
       "2          5.7                  158         0  \n",
       "3          5.0                  155         0  \n",
       "4          4.8                  155         0  "
      ]
     },
     "execution_count": 65,
     "metadata": {},
     "output_type": "execute_result"
    }
   ],
   "source": [
    "df.head()"
   ]
  },
  {
   "cell_type": "code",
   "execution_count": 66,
   "id": "da3b3b6d-23a7-490b-8d2f-be3ed586ef9d",
   "metadata": {},
   "outputs": [
    {
     "data": {
      "text/html": [
       "<div>\n",
       "<style scoped>\n",
       "    .dataframe tbody tr th:only-of-type {\n",
       "        vertical-align: middle;\n",
       "    }\n",
       "\n",
       "    .dataframe tbody tr th {\n",
       "        vertical-align: top;\n",
       "    }\n",
       "\n",
       "    .dataframe thead th {\n",
       "        text-align: right;\n",
       "    }\n",
       "</style>\n",
       "<table border=\"1\" class=\"dataframe\">\n",
       "  <thead>\n",
       "    <tr style=\"text-align: right;\">\n",
       "      <th></th>\n",
       "      <th>age</th>\n",
       "      <th>hypertension</th>\n",
       "      <th>heart_disease</th>\n",
       "      <th>bmi</th>\n",
       "      <th>HbA1c_level</th>\n",
       "      <th>blood_glucose_level</th>\n",
       "      <th>diabetes</th>\n",
       "    </tr>\n",
       "  </thead>\n",
       "  <tbody>\n",
       "    <tr>\n",
       "      <th>count</th>\n",
       "      <td>100000.000000</td>\n",
       "      <td>100000.00000</td>\n",
       "      <td>100000.000000</td>\n",
       "      <td>100000.000000</td>\n",
       "      <td>100000.000000</td>\n",
       "      <td>100000.000000</td>\n",
       "      <td>100000.000000</td>\n",
       "    </tr>\n",
       "    <tr>\n",
       "      <th>mean</th>\n",
       "      <td>41.885856</td>\n",
       "      <td>0.07485</td>\n",
       "      <td>0.039420</td>\n",
       "      <td>27.320767</td>\n",
       "      <td>5.527507</td>\n",
       "      <td>138.058060</td>\n",
       "      <td>0.085000</td>\n",
       "    </tr>\n",
       "    <tr>\n",
       "      <th>std</th>\n",
       "      <td>22.516840</td>\n",
       "      <td>0.26315</td>\n",
       "      <td>0.194593</td>\n",
       "      <td>6.636783</td>\n",
       "      <td>1.070672</td>\n",
       "      <td>40.708136</td>\n",
       "      <td>0.278883</td>\n",
       "    </tr>\n",
       "    <tr>\n",
       "      <th>min</th>\n",
       "      <td>0.080000</td>\n",
       "      <td>0.00000</td>\n",
       "      <td>0.000000</td>\n",
       "      <td>10.010000</td>\n",
       "      <td>3.500000</td>\n",
       "      <td>80.000000</td>\n",
       "      <td>0.000000</td>\n",
       "    </tr>\n",
       "    <tr>\n",
       "      <th>25%</th>\n",
       "      <td>24.000000</td>\n",
       "      <td>0.00000</td>\n",
       "      <td>0.000000</td>\n",
       "      <td>23.630000</td>\n",
       "      <td>4.800000</td>\n",
       "      <td>100.000000</td>\n",
       "      <td>0.000000</td>\n",
       "    </tr>\n",
       "    <tr>\n",
       "      <th>50%</th>\n",
       "      <td>43.000000</td>\n",
       "      <td>0.00000</td>\n",
       "      <td>0.000000</td>\n",
       "      <td>27.320000</td>\n",
       "      <td>5.800000</td>\n",
       "      <td>140.000000</td>\n",
       "      <td>0.000000</td>\n",
       "    </tr>\n",
       "    <tr>\n",
       "      <th>75%</th>\n",
       "      <td>60.000000</td>\n",
       "      <td>0.00000</td>\n",
       "      <td>0.000000</td>\n",
       "      <td>29.580000</td>\n",
       "      <td>6.200000</td>\n",
       "      <td>159.000000</td>\n",
       "      <td>0.000000</td>\n",
       "    </tr>\n",
       "    <tr>\n",
       "      <th>max</th>\n",
       "      <td>80.000000</td>\n",
       "      <td>1.00000</td>\n",
       "      <td>1.000000</td>\n",
       "      <td>95.690000</td>\n",
       "      <td>9.000000</td>\n",
       "      <td>300.000000</td>\n",
       "      <td>1.000000</td>\n",
       "    </tr>\n",
       "  </tbody>\n",
       "</table>\n",
       "</div>"
      ],
      "text/plain": [
       "                 age  hypertension  heart_disease            bmi  \\\n",
       "count  100000.000000  100000.00000  100000.000000  100000.000000   \n",
       "mean       41.885856       0.07485       0.039420      27.320767   \n",
       "std        22.516840       0.26315       0.194593       6.636783   \n",
       "min         0.080000       0.00000       0.000000      10.010000   \n",
       "25%        24.000000       0.00000       0.000000      23.630000   \n",
       "50%        43.000000       0.00000       0.000000      27.320000   \n",
       "75%        60.000000       0.00000       0.000000      29.580000   \n",
       "max        80.000000       1.00000       1.000000      95.690000   \n",
       "\n",
       "         HbA1c_level  blood_glucose_level       diabetes  \n",
       "count  100000.000000        100000.000000  100000.000000  \n",
       "mean        5.527507           138.058060       0.085000  \n",
       "std         1.070672            40.708136       0.278883  \n",
       "min         3.500000            80.000000       0.000000  \n",
       "25%         4.800000           100.000000       0.000000  \n",
       "50%         5.800000           140.000000       0.000000  \n",
       "75%         6.200000           159.000000       0.000000  \n",
       "max         9.000000           300.000000       1.000000  "
      ]
     },
     "execution_count": 66,
     "metadata": {},
     "output_type": "execute_result"
    }
   ],
   "source": [
    "df.describe()"
   ]
  },
  {
   "cell_type": "code",
   "execution_count": 67,
   "id": "16f84f86-39d3-42d6-bdde-ace996fc2647",
   "metadata": {},
   "outputs": [
    {
     "data": {
      "text/plain": [
       "gender                  object\n",
       "age                    float64\n",
       "hypertension             int64\n",
       "heart_disease            int64\n",
       "smoking_history         object\n",
       "bmi                    float64\n",
       "HbA1c_level            float64\n",
       "blood_glucose_level      int64\n",
       "diabetes                 int64\n",
       "dtype: object"
      ]
     },
     "execution_count": 67,
     "metadata": {},
     "output_type": "execute_result"
    }
   ],
   "source": [
    "df.dtypes"
   ]
  },
  {
   "cell_type": "code",
   "execution_count": 68,
   "id": "a93e3ada-35c6-4023-8dad-451a958b3567",
   "metadata": {},
   "outputs": [
    {
     "data": {
      "text/plain": [
       "gender                 0\n",
       "age                    0\n",
       "hypertension           0\n",
       "heart_disease          0\n",
       "smoking_history        0\n",
       "bmi                    0\n",
       "HbA1c_level            0\n",
       "blood_glucose_level    0\n",
       "diabetes               0\n",
       "dtype: int64"
      ]
     },
     "execution_count": 68,
     "metadata": {},
     "output_type": "execute_result"
    }
   ],
   "source": [
    "df.isnull().sum()  # no missing value "
   ]
  },
  {
   "cell_type": "markdown",
   "id": "81baf920-59bd-47d8-8ccd-b452e5d01f81",
   "metadata": {},
   "source": [
    "# Descriptive Analysis (NumPy, Pandas, Seaborn)\n",
    "- Compute average values for BMI, Hypertension, Glucose, and HbA1c.\n",
    "\n",
    "\n",
    "- Compute and interpret the correlation matrix among these health indicators.\n",
    "\n",
    "\n",
    "- Group the data by Diabetes Status and compare the mean values of these variables.\n",
    "\n",
    "\n",
    "- Visualizations using Seaborn:\n",
    "- Histogram of BMI distributions.\n",
    "- Boxplot of Glucose levels grouped by Diabetes Status.\n",
    "- Scatter plot with regression line: HbA1c vs Blood Glucose (sns.regplot).\n",
    "- Heatmap showing the correlation matrix.\n"
   ]
  },
  {
   "cell_type": "code",
   "execution_count": 69,
   "id": "f9265c0e-f4db-4101-9200-0540002cff7a",
   "metadata": {},
   "outputs": [
    {
     "name": "stdout",
     "output_type": "stream",
     "text": [
      "avg_bmi = 27.3207671\n",
      "avg_hypertension = 0.07485\n",
      "avg_glucose = 138.05806\n",
      "avg_hba1c = 5.527507\n"
     ]
    }
   ],
   "source": [
    "# Compute average values for BMI, Hypertension, Glucose, and HbA1c.\n",
    "avg_bmi = df['bmi'].mean()\n",
    "avg_hypertension = df['hypertension'].mean()\n",
    "avg_glucose = df['blood_glucose_level'].mean()\n",
    "avg_hba1c = df['HbA1c_level'].mean()\n",
    "print(\"avg_bmi =\",avg_bmi)\n",
    "print(\"avg_hypertension =\",avg_hypertension)\n",
    "print(\"avg_glucose =\",avg_glucose)\n",
    "print(\"avg_hba1c =\",avg_hba1c)"
   ]
  },
  {
   "cell_type": "code",
   "execution_count": 70,
   "id": "8d3bd904-4c08-4d0d-8525-272cc7b8109f",
   "metadata": {},
   "outputs": [
    {
     "name": "stdout",
     "output_type": "stream",
     "text": [
      "                          bmi  hypertension  blood_glucose_level  HbA1c_level  \\\n",
      "bmi                  1.000000      0.147666             0.091261     0.082997   \n",
      "hypertension         0.147666      1.000000             0.084429     0.080939   \n",
      "blood_glucose_level  0.091261      0.084429             1.000000     0.166733   \n",
      "HbA1c_level          0.082997      0.080939             0.166733     1.000000   \n",
      "age                  0.337396      0.251171             0.110672     0.101354   \n",
      "heart_disease        0.061198      0.121262             0.070066     0.067589   \n",
      "\n",
      "                          age  heart_disease  \n",
      "bmi                  0.337396       0.061198  \n",
      "hypertension         0.251171       0.121262  \n",
      "blood_glucose_level  0.110672       0.070066  \n",
      "HbA1c_level          0.101354       0.067589  \n",
      "age                  1.000000       0.233354  \n",
      "heart_disease        0.233354       1.000000  \n"
     ]
    }
   ],
   "source": [
    "#Compute and interpret the correlation matrix among these health indicators.\n",
    "health_indicators = ['bmi', 'hypertension', 'blood_glucose_level', 'HbA1c_level', 'age', 'heart_disease']\n",
    "correlation_matrix = df[health_indicators].corr()\n",
    "print(correlation_matrix)"
   ]
  },
  {
   "cell_type": "code",
   "execution_count": 71,
   "id": "38d613e0-03d2-4356-8943-e9ca0beeddda",
   "metadata": {},
   "outputs": [
    {
     "name": "stdout",
     "output_type": "stream",
     "text": [
      "                bmi  hypertension  blood_glucose_level  HbA1c_level  \\\n",
      "diabetes                                                              \n",
      "0         26.887163      0.058984           132.852470     5.396761   \n",
      "1         31.988382      0.245647           194.094706     6.934953   \n",
      "\n",
      "                age  heart_disease  \n",
      "diabetes                            \n",
      "0         40.115187       0.029235  \n",
      "1         60.946588       0.149059  \n"
     ]
    }
   ],
   "source": [
    "#Group the data by Diabetes Status and compare the mean values of these variables\n",
    "grouped_by_diabetes = df.groupby('diabetes')[health_indicators].mean()\n",
    "print(grouped_by_diabetes)"
   ]
  },
  {
   "cell_type": "markdown",
   "id": "17d67db2-6e1e-4632-8e5f-85b26f1371ef",
   "metadata": {},
   "source": [
    "# Visualizations using Seaborn:\n"
   ]
  },
  {
   "cell_type": "code",
   "execution_count": 72,
   "id": "3ec21703-4638-4557-b8c5-75d12fe8bbd5",
   "metadata": {},
   "outputs": [
    {
     "data": {
      "image/png": "[encoded data removed]",
      "text/plain": [
       "<Figure size 640x480 with 1 Axes>"
      ]
     },
     "metadata": {},
     "output_type": "display_data"
    }
   ],
   "source": [
    "#Histogram of BMI distributions.\n",
    "sns.histplot(df['bmi'], kde=True)\n",
    "plt.title('BMI Distribution')\n",
    "plt.xlabel('BMI')\n",
    "plt.ylabel('Frequency')\n",
    "plt.show()"
   ]
  },
  {
   "cell_type": "code",
   "execution_count": 73,
   "id": "6832d168-6c4b-48cd-8511-7d128f5fcd1a",
   "metadata": {},
   "outputs": [
    {
     "data": {
      "image/png": "[encoded data removed]",
      "text/plain": [
       "<Figure size 640x480 with 1 Axes>"
      ]
     },
     "metadata": {},
     "output_type": "display_data"
    }
   ],
   "source": [
    "# Boxplot of Glucose levels grouped by Diabetes Status\n",
    "sns.boxplot(x='diabetes', y='blood_glucose_level', data=df)\n",
    "plt.title('Blood Glucose Levels by Diabetes Status')\n",
    "plt.xlabel('Diabetes Status')\n",
    "plt.ylabel('Blood Glucose Level')\n",
    "plt.show()"
   ]
  },
  {
   "cell_type": "code",
   "execution_count": 74,
   "id": "8f4c7ab3-89b8-4111-b060-75aa33aa56b4",
   "metadata": {},
   "outputs": [
    {
     "data": {
      "image/png": "[encoded data removed]",
      "text/plain": [
       "<Figure size 640x480 with 1 Axes>"
      ]
     },
     "metadata": {},
     "output_type": "display_data"
    }
   ],
   "source": [
    "#Scatter plot with regression line: HbA1c vs Blood Glucose (sns.regplot).\n",
    "sns.regplot(x='HbA1c_level', y='blood_glucose_level', data=df)\n",
    "plt.title('HbA1c vs. Blood Glucose Level')\n",
    "plt.xlabel('HbA1c Level')\n",
    "plt.ylabel('Blood Glucose Level')\n",
    "plt.show()"
   ]
  },
  {
   "cell_type": "code",
   "execution_count": 75,
   "id": "8f3e6a25-5734-40b8-b5ed-2f857ed709d1",
   "metadata": {},
   "outputs": [
    {
     "data": {
      "image/png": "[encoded data removed]",
      "text/plain": [
       "<Figure size 640x480 with 2 Axes>"
      ]
     },
     "metadata": {},
     "output_type": "display_data"
    }
   ],
   "source": [
    "#Heatmap showing the correlation matrix.\n",
    "sns.heatmap(correlation_matrix, annot=True, cmap='coolwarm', fmt=\".2f\")\n",
    "plt.title('Correlation Matrix of Health Indicators')\n",
    "plt.show()"
   ]
  },
  {
   "cell_type": "markdown",
   "id": "b631d2a6-5c6b-481c-9518-af295398854e",
   "metadata": {},
   "source": [
    "# Hypothesis Testing\n",
    "- Z-Test\n",
    "\n",
    "\n",
    "     - Claim: The average BMI in this population = 25.\n",
    "\n",
    "     - Conduct a one-sample Z-test to assess if the sample diverges significantly from this claim.\n",
    "\n",
    "\n",
    "- T-Test\n",
    "\n",
    "\n",
    "     - Question: Is the average age different between diabetic-positive and diabetic-negative groups?\n",
    "\n",
    "     - Use an independent two-sample t-test and interpret the result.\n",
    "\n",
    "\n",
    "- Chi-Square Test\n",
    "\n",
    "\n",
    "    - Question: Is Smoking History related to Diabetes Status?\n",
    "\n",
    "   - Create a contingency table and perform a Chi-Square test of independence."
   ]
  },
  {
   "cell_type": "code",
   "execution_count": 76,
   "id": "e518d83c-277b-4c38-8a1d-1557c1c15fc1",
   "metadata": {},
   "outputs": [
    {
     "name": "stdout",
     "output_type": "stream",
     "text": [
      "Z-Test for BMI:\n",
      "Z-statistic: 110.57931974055543\n",
      "P-value: 0.0\n",
      "The sample mean BMI is significantly different from 25.\n"
     ]
    }
   ],
   "source": [
    "#Z-Test\n",
    "#Claim: The average BMI in this population = 25.\n",
    "#Conduct a one-sample Z-test to assess if the sample diverges significantly from this claim.\n",
    "claimed_bmi = 25\n",
    "z_statistic, p_value_z = ztest(df['bmi'], value=claimed_bmi)\n",
    "print(f\"Z-Test for BMI:\")\n",
    "print(f\"Z-statistic: {z_statistic}\")\n",
    "print(f\"P-value: {p_value_z}\")\n",
    "if p_value_z < 0.05:\n",
    "    print(\"The sample mean BMI is significantly different from 25.\")\n",
    "else:\n",
    "    print(\"The sample mean BMI is not significantly different from 25.\")\n"
   ]
  },
  {
   "cell_type": "code",
   "execution_count": 77,
   "id": "eca2b762-3e08-4f35-bf2e-06a9057ead23",
   "metadata": {},
   "outputs": [
    {
     "name": "stdout",
     "output_type": "stream",
     "text": [
      "\n",
      "T-Test for Age between Diabetic-Positive and Diabetic-Negative groups:\n",
      "T-statistic: 84.44765154890852\n",
      "P-value: 0.0\n",
      "There is a significant difference in age between diabetic and non-diabetic groups.\n"
     ]
    }
   ],
   "source": [
    "#T-Test\n",
    "#Question: Is the average age different between diabetic-positive and diabetic-negative groups?\n",
    "#Use an independent two-sample t-test and interpret the result.\n",
    "diabetic_positive = df[df['diabetes'] == 1]['age']\n",
    "diabetic_negative = df[df['diabetes'] == 0]['age']\n",
    "t_statistic, p_value_t = ttest_ind(diabetic_positive, diabetic_negative)\n",
    "print(f\"\\nT-Test for Age between Diabetic-Positive and Diabetic-Negative groups:\")\n",
    "print(f\"T-statistic: {t_statistic}\")\n",
    "print(f\"P-value: {p_value_t}\")\n",
    "if p_value_t < 0.05:\n",
    "    print(\"There is a significant difference in age between diabetic and non-diabetic groups.\")\n",
    "else:\n",
    "    print(\"There is no significant difference in age between diabetic and non-diabetic groups.\")\n"
   ]
  },
  {
   "cell_type": "code",
   "execution_count": 78,
   "id": "5b5a887c-3a46-45c1-adc7-c7347683269c",
   "metadata": {},
   "outputs": [
    {
     "name": "stdout",
     "output_type": "stream",
     "text": [
      "\n",
      "Chi-Square Test for Smoking History and Diabetes Status:\n",
      "Contingency Table:\n",
      "diabetes             0     1\n",
      "smoking_history             \n",
      "No Info          34362  1454\n",
      "current           8338   948\n",
      "ever              3532   472\n",
      "former            7762  1590\n",
      "never            31749  3346\n",
      "not current       5757   690\n",
      "\n",
      "Chi-square statistic: 1956.0944200848764\n",
      "P-value: 0.0\n",
      "There is a significant association between smoking history and diabetes status.\n"
     ]
    }
   ],
   "source": [
    "#Chi-Square Test\n",
    "#Question: Is Smoking History related to Diabetes Status?\n",
    "#Create a contingency table and perform a Chi-Square test of independence.\n",
    "contingency_table = pd.crosstab(df['smoking_history'], df['diabetes'])\n",
    "chi2, p_value_chi2, _, _ = chi2_contingency(contingency_table)\n",
    "print(f\"\\nChi-Square Test for Smoking History and Diabetes Status:\")\n",
    "print(\"Contingency Table:\")\n",
    "print(contingency_table)\n",
    "print(f\"\\nChi-square statistic: {chi2}\")\n",
    "print(f\"P-value: {p_value_chi2}\")\n",
    "if p_value_chi2 < 0.05:\n",
    "    print(\"There is a significant association between smoking history and diabetes status.\")\n",
    "else:\n",
    "    print(\"There is no significant association between smoking history and diabetes status.\")"
   ]
  },
  {
   "cell_type": "markdown",
   "id": "8c125627-c892-4be8-83a3-d6f7ed50c1d2",
   "metadata": {
    "jp-MarkdownHeadingCollapsed": true
   },
   "source": [
    "#  Summary & Insights\n",
    "- Write 5–7 bullet points summarizing your findings:\n",
    "- Which indicators differ most between diabetic and non-diabetic groups?\n",
    "- What were the results of the Z-test, T-test, and Chi-Square test?\n",
    "- What insights might healthcare professionals draw from your analysis?\n"
   ]
  },
  {
   "cell_type": "markdown",
   "id": "3e97683e-e18a-46f9-8136-5608350c99c9",
   "metadata": {
    "jp-MarkdownHeadingCollapsed": true
   },
   "source": [
    "# Summary of Findings\n",
    "- Key Differentiating Indicators: Blood glucose level, HbA1c level, age, BMI, and hypertension are the most significant indicators that differ between diabetic and non-diabetic individuals.\n",
    "\n",
    "- Z-Test Result: The average BMI in the dataset is significantly different from the claimed average of 25, indicating a generally higher BMI in this population.\n",
    "\n",
    "- T-Test Result: There is a substantial and statistically significant age difference between individuals with and without diabetes, with older individuals being more prone to diabetes.\n",
    "\n",
    "- Chi-Square Test Result: A person's smoking history is significantly associated with their likelihood of having diabetes.\n",
    "\n",
    "- Clinical Insights: The analysis highlights that individuals with diabetes tend to be older, have a higher BMI, and are more likely to have a history of hypertension. The strong correlation between HbA1c and blood glucose levels underscores the importance of both metrics in diabetes management.\n",
    "\n",
    "- Preventive Measures: The findings suggest that healthcare professionals should focus on lifestyle interventions, such as weight management (BMI control) and smoking cessation, particularly in older populations, to mitigate the risk of diabetes.\n",
    "\n",
    "- Screening: Given the clear distinctions in health indicators, routine screenings for blood glucose, HbA1c, and blood pressure, especially for older and overweight individuals, are crucial for early detection and management of diabetes."
   ]
  },
  {
   "cell_type": "code",
   "execution_count": null,
   "id": "4d06700b-9b75-4755-9469-c96096c4e937",
   "metadata": {},
   "outputs": [],
   "source": []
  },
  {
   "cell_type": "code",
   "execution_count": null,
   "id": "7fcca8a3-da57-4798-bb2f-34f16274bf63",
   "metadata": {},
   "outputs": [],
   "source": []
  }
 ],
 "metadata": {
  "kernelspec": {
   "display_name": "Python 3 (ipykernel)",
   "language": "python",
   "name": "python3"
  },
  "language_info": {
   "codemirror_mode": {
    "name": "ipython",
    "version": 3
   },
   "file_extension": ".py",
   "mimetype": "text/x-python",
   "name": "python",
   "nbconvert_exporter": "python",
   "pygments_lexer": "ipython3",
   "version": "3.13.1"
  }
 },
 "nbformat": 4,
 "nbformat_minor": 5
}
